{
 "cells": [
  {
   "attachments": {},
   "cell_type": "markdown",
   "metadata": {},
   "source": [
    "ARCHIVO XML\n",
    "\n",
    "Este es el fichero con el trabajo individualizado para el tratamiento e inserción de datos de archivo xml.\n",
    "Los procesos aquí implentados se trasladarán a los métodos que se definan en la clase de tratamiento de la base de datos. \n"
   ]
  },
  {
   "cell_type": "code",
   "execution_count": null,
   "metadata": {},
   "outputs": [],
   "source": [
    "import re\n",
    "import os\n",
    "import xml.etree.ElementTree as ET\n",
    "\n",
    "tree = ET.parse('data_xml.xml')\n",
    "root = tree.getroot()\n",
    "\n",
    "xml_list = []\n",
    "for child in root:\n",
    "    xml_dict = {}\n",
    "    for subchild in child:\n",
    "        xml_dict[subchild.tag] = subchild.text\n",
    "    xml_list.append(xml_dict) # Es una lista que contiene diccionarios\n",
    "\n",
    "\n",
    "xml_list"
   ]
  },
  {
   "cell_type": "code",
   "execution_count": null,
   "metadata": {},
   "outputs": [],
   "source": [
    "#Creamos una copia para comenzar con los diferentes procesos de limpieza del archivo\n",
    "limpieza_xml = xml_list.copy()\n",
    "limpieza_xml"
   ]
  },
  {
   "cell_type": "code",
   "execution_count": null,
   "metadata": {},
   "outputs": [],
   "source": [
    "#eliminamos la columna level_0 al estimar que no es necesaria\n",
    "for i in limpieza_xml:\n",
    "    if \"level_0\" in i:\n",
    "        i.pop(\"level_0\")    \n",
    "    else:\n",
    "        pass "
   ]
  },
  {
   "cell_type": "code",
   "execution_count": null,
   "metadata": {},
   "outputs": [],
   "source": [
    "# realizamos la modificación de la columna gender para cambiar los atributos numéricos por palabras y ampliar el abanico de opciones\n",
    "\n",
    "\n",
    "for i in limpieza_xml:\n",
    "    if \"gender\" in i:\n",
    "        if  i[\"gender\"] == \"0\":\n",
    "            i[\"gender\"] = \"Man\"\n",
    "       \n",
    "        elif i[\"gender\"] == \"1\":\n",
    "            i[\"gender\"] = \"Woman\"\n",
    "        \n",
    "        elif i[\"gender\"] == \"2\":\n",
    "            i[\"gender\"] = \"Nonbinary\"    \n",
    "\n",
    "        elif i[\"gender\"] == \"3\":\n",
    "            i[\"gender\"] = \"Prefer not to say\"    \n",
    "\n",
    "        elif i[\"gender\"] == \"4\":\n",
    "            i[\"gender\"] = \"Prefer to self-describe\"\n",
    "\n",
    "    else:\n",
    "        pass        \n",
    "\n",
    "\n",
    "limpieza_xml        "
   ]
  },
  {
   "cell_type": "code",
   "execution_count": null,
   "metadata": {},
   "outputs": [],
   "source": [
    "#sacamos los values del diccionario que son los valores a insertar en una lista de tuplas\n",
    "lista_tuplas = []\n",
    "for index in range(len(limpieza_xml)):\n",
    "    value = limpieza_xml[index].values()\n",
    "    lista_tuplas.append(value)"
   ]
  },
  {
   "cell_type": "code",
   "execution_count": null,
   "metadata": {},
   "outputs": [],
   "source": [
    "#comprobamos la lista de tuplas\n",
    "print(lista_tuplas[0:5])\n"
   ]
  },
  {
   "cell_type": "code",
   "execution_count": null,
   "metadata": {},
   "outputs": [],
   "source": [
    "# creamos una lista para extraer solo los valores. Será una lista de tuplas que ya tendrá un formato válido para el insert\n",
    "limpieza_xml_values = []\n",
    "for i in (lista_tuplas):\n",
    "    val = tuple(i)\n",
    "    limpieza_xml_values.append(val)\n",
    " \n",
    "\n",
    "#print ((limpieza_xml[0]).values())\n"
   ]
  },
  {
   "cell_type": "code",
   "execution_count": null,
   "metadata": {},
   "outputs": [],
   "source": [
    "limpieza_xml_values"
   ]
  },
  {
   "cell_type": "code",
   "execution_count": null,
   "metadata": {},
   "outputs": [],
   "source": [
    "#realizamos la inserción \n",
    "import mysql.connector\n",
    "\n",
    "#el método debería pedir la tabla\n",
    "\n",
    "cnx = mysql.connector.connect(user='root', password='AlumnaAdalab',\n",
    "                              host='127.0.0.1', database='prueba_proyecto')\n",
    "\n",
    "\n",
    "mycursor = cnx.cursor()\n",
    "sql = \"INSERT INTO tablaxml (index_sql, time, age, gender) VALUES (%s, %s, %s, %s)\" \n",
    "\n",
    "val = limpieza_xml_values\n",
    "\n",
    "try: \n",
    "    mycursor.execute(\"SET FOREIGN_KEY_CHECKS = 0\")\n",
    "    mycursor.executemany(sql, val)\n",
    "    cnx.commit()\n",
    "    print(mycursor.rowcount, \"registros insertados.\")\n",
    "\n",
    "except mysql.connector.Error as err:\n",
    "    print(err)\n",
    "    print(\"Error Code:\", err.errno)\n",
    "    print(\"SQLSTATE\", err.sqlstate)\n",
    "    print(\"Message\", err.msg)"
   ]
  }
 ],
 "metadata": {
  "kernelspec": {
   "display_name": "base",
   "language": "python",
   "name": "python3"
  },
  "language_info": {
   "codemirror_mode": {
    "name": "ipython",
    "version": 3
   },
   "file_extension": ".py",
   "mimetype": "text/x-python",
   "name": "python",
   "nbconvert_exporter": "python",
   "pygments_lexer": "ipython3",
   "version": "3.9.7"
  },
  "orig_nbformat": 4
 },
 "nbformat": 4,
 "nbformat_minor": 2
}
