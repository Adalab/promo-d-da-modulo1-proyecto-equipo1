{
 "cells": [
  {
   "attachments": {},
   "cell_type": "markdown",
   "metadata": {},
   "source": [
    "                                                              ARCHIVO TXT\n",
    "                                                              "
   ]
  },
  {
   "cell_type": "code",
   "execution_count": null,
   "metadata": {},
   "outputs": [],
   "source": [
    "import re"
   ]
  },
  {
   "cell_type": "code",
   "execution_count": null,
   "metadata": {},
   "outputs": [],
   "source": [
    "with open('data_txt.txt','r') as file:\n",
    "    file_source = file.readlines() # Es una lista que cada línea del fichero txt como un string de todos los datos.\n",
    "\n",
    "\n",
    "prueba_txt = file_source.copy() "
   ]
  },
  {
   "cell_type": "code",
   "execution_count": null,
   "metadata": {},
   "outputs": [],
   "source": [
    "#1. pasamos la lista a string por las comas\n",
    "prueba_txt_string = \";\".join(prueba_txt)\n",
    "limpieza1 = prueba_txt_string.replace(\"null\", \"NULL\").replace(\"<\", \"under\")\n",
    "limpieza2 = limpieza1.replace(\",\", \" ,\").replace(\" ,\", \",\").replace(\"   \", \" \").replace(\"  \", \"\")\n",
    "patron1 = \"((;){2,})\"\n",
    "puntosycomas = re.findall(patron1, limpieza2) # esta línea es para confirmar que el patrón funciona. Habría que quitarla del final.\n"
   ]
  },
  {
   "cell_type": "code",
   "execution_count": null,
   "metadata": {},
   "outputs": [],
   "source": [
    "# este metodo lo he sacado de https://realpython.com/replace-string-python/ A diferencia del replace en este caso parece que funciona y otros método para tratar strings\n",
    "# con replace no ha habido manera\n",
    "limpieza3= re.sub(patron1, \";\", limpieza2)"
   ]
  },
  {
   "cell_type": "code",
   "execution_count": null,
   "metadata": {},
   "outputs": [],
   "source": [
    "print(limpieza3)"
   ]
  }
 ],
 "metadata": {
  "kernelspec": {
   "display_name": "base",
   "language": "python",
   "name": "python3"
  },
  "language_info": {
   "codemirror_mode": {
    "name": "ipython",
    "version": 3
   },
   "file_extension": ".py",
   "mimetype": "text/x-python",
   "name": "python",
   "nbconvert_exporter": "python",
   "pygments_lexer": "ipython3",
   "version": "3.9.7"
  },
  "orig_nbformat": 4
 },
 "nbformat": 4,
 "nbformat_minor": 2
}
