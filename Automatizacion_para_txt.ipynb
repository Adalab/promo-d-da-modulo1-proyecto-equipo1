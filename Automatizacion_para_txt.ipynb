{
 "cells": [
  {
   "attachments": {},
   "cell_type": "markdown",
   "metadata": {},
   "source": [
    "## DEFINIMOS LA CLASE"
   ]
  },
  {
   "cell_type": "code",
   "execution_count": 1,
   "metadata": {},
   "outputs": [],
   "source": [
    "import os\n",
    "import re"
   ]
  },
  {
   "cell_type": "code",
   "execution_count": 2,
   "metadata": {},
   "outputs": [
    {
     "data": {
      "text/plain": [
       "'c:\\\\Users\\\\User\\\\Desktop\\\\ADALAB\\\\proyecto_1'"
      ]
     },
     "execution_count": 2,
     "metadata": {},
     "output_type": "execute_result"
    }
   ],
   "source": [
    "os.getcwd()"
   ]
  },
  {
   "cell_type": "code",
   "execution_count": 3,
   "metadata": {},
   "outputs": [
    {
     "name": "stdout",
     "output_type": "stream",
     "text": [
      "['creacion de clase.ipynb', 'data_txt.txt', 'data_xml.xml', 'promo-d-da-modulo1-proyecto-equipo1', 'PROYECTO']\n"
     ]
    }
   ],
   "source": [
    "print(os.listdir())"
   ]
  },
  {
   "cell_type": "code",
   "execution_count": 7,
   "metadata": {},
   "outputs": [],
   "source": [
    "class Adalab_txt:\n",
    "    \n",
    "    def __init__(self, ruta, fichero_txt):\n",
    "        self.ruta = ruta\n",
    "        self.fichero_txt = fichero_txt\n",
    "        # self.fichero_txt = fichero_txt\n",
    "        \n",
    "        \n",
    "    def abrir_txt(self):\n",
    "            \n",
    "        a = open((f\"{self.ruta}/{self.fichero_txt}.txt\"), encoding= \"latin-1\", mode= \"r\")\n",
    "        archivo = a.read()\n",
    "        return archivo\n",
    "            \n",
    "    "
   ]
  }
 ],
 "metadata": {
  "kernelspec": {
   "display_name": "base",
   "language": "python",
   "name": "python3"
  },
  "language_info": {
   "codemirror_mode": {
    "name": "ipython",
    "version": 3
   },
   "file_extension": ".py",
   "mimetype": "text/x-python",
   "name": "python",
   "nbconvert_exporter": "python",
   "pygments_lexer": "ipython3",
   "version": "3.9.13"
  },
  "orig_nbformat": 4
 },
 "nbformat": 4,
 "nbformat_minor": 2
}
